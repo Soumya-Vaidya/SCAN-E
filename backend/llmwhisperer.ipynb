{
 "cells": [
  {
   "cell_type": "code",
   "execution_count": 8,
   "metadata": {},
   "outputs": [],
   "source": [
    "import os\n",
    "from dotenv import load_dotenv\n",
    "\n",
    "load_dotenv()\n",
    "\n",
    "LLMWHISPERER_API_KEY = os.getenv(\"LLMWHISPERER_API_KEY\")\n",
    "GEMINI_API_KEY = os.getenv(\"GEMINI_API_KEY\")"
   ]
  },
  {
   "cell_type": "markdown",
   "metadata": {},
   "source": [
    "## LLM Whisperer"
   ]
  },
  {
   "cell_type": "code",
   "execution_count": 9,
   "metadata": {},
   "outputs": [],
   "source": [
    "from unstract.llmwhisperer import LLMWhispererClientV2"
   ]
  },
  {
   "cell_type": "code",
   "execution_count": 10,
   "metadata": {},
   "outputs": [
    {
     "name": "stderr",
     "output_type": "stream",
     "text": [
      "2025-02-15 16:17:01,429 - unstract.llmwhisperer.client_v2 - DEBUG - logging_level set to DEBUG\n",
      "2025-02-15 16:17:01,430 - unstract.llmwhisperer.client_v2 - DEBUG - base_url set to https://llmwhisperer-api.us-central.unstract.com/api/v2\n"
     ]
    }
   ],
   "source": [
    "# Provide the base URL and API key explicitly\n",
    "clientllm = LLMWhispererClientV2(\n",
    "    base_url=\"https://llmwhisperer-api.us-central.unstract.com/api/v2\",\n",
    "    api_key=LLMWHISPERER_API_KEY,\n",
    ")"
   ]
  },
  {
   "cell_type": "code",
   "execution_count": 11,
   "metadata": {},
   "outputs": [
    {
     "name": "stderr",
     "output_type": "stream",
     "text": [
      "2025-02-15 16:17:01,436 - unstract.llmwhisperer.client_v2 - DEBUG - whisper called\n",
      "2025-02-15 16:17:01,436 - unstract.llmwhisperer.client_v2 - DEBUG - api_url: https://llmwhisperer-api.us-central.unstract.com/api/v2/whisper\n",
      "2025-02-15 16:17:01,437 - unstract.llmwhisperer.client_v2 - DEBUG - params: {'mode': 'form', 'output_mode': 'layout_preserving', 'page_seperator': '<<<', 'pages_to_extract': '', 'median_filter_size': 0, 'gaussian_blur_radius': 0, 'line_splitter_tolerance': 0.4, 'horizontal_stretch_factor': 1.0, 'mark_vertical_lines': False, 'mark_horizontal_lines': False, 'line_spitter_strategy': 'left-priority', 'lang': 'eng', 'tag': 'default', 'filename': '', 'webhook_metadata': '', 'use_webhook': ''}\n",
      "2025-02-15 16:17:01,731 - unstract.llmwhisperer.client_v2 - DEBUG - whisper_status called\n",
      "2025-02-15 16:17:01,731 - unstract.llmwhisperer.client_v2 - DEBUG - url: https://llmwhisperer-api.us-central.unstract.com/api/v2/whisper-status\n",
      "2025-02-15 16:17:01,906 - unstract.llmwhisperer.client_v2 - DEBUG - Whisper-hash:fbab72d4|10c3ab076b57d1ab7f62b2ca6b0b6d7f | STATUS: accepted...\n",
      "2025-02-15 16:17:06,908 - unstract.llmwhisperer.client_v2 - DEBUG - whisper_status called\n",
      "2025-02-15 16:17:06,908 - unstract.llmwhisperer.client_v2 - DEBUG - url: https://llmwhisperer-api.us-central.unstract.com/api/v2/whisper-status\n",
      "2025-02-15 16:17:07,085 - unstract.llmwhisperer.client_v2 - DEBUG - Whisper-hash:fbab72d4|10c3ab076b57d1ab7f62b2ca6b0b6d7f | STATUS: processed!\n",
      "2025-02-15 16:17:07,086 - unstract.llmwhisperer.client_v2 - DEBUG - whisper_retrieve called\n",
      "2025-02-15 16:17:07,086 - unstract.llmwhisperer.client_v2 - DEBUG - url: https://llmwhisperer-api.us-central.unstract.com/api/v2/whisper-retrieve\n"
     ]
    }
   ],
   "source": [
    "# sync\n",
    "\n",
    "whisper = clientllm.whisper(\n",
    "    file_path=\"./bills/ralphs.jpeg\", wait_for_completion=True, wait_timeout=200\n",
    ")"
   ]
  },
  {
   "cell_type": "code",
   "execution_count": 12,
   "metadata": {},
   "outputs": [
    {
     "name": "stdout",
     "output_type": "stream",
     "text": [
      "\n",
      "\n",
      "                            FRESH \n",
      "                            FOR \n",
      " Ralphs \n",
      "                            EVERYONE ® \n",
      "          1916121 1698 \n",
      "\n",
      "        8657 Villa La Jolla Dr. \n",
      "     [ ] (858) 597-1550                         IM \n",
      "        Your cashier was Rach V \n",
      "\n",
      "      VERIFIED TOTAL SAVINGS $ 2.71 \n",
      "           BARLLA SHELLS       RC     1.50 F \n",
      "   SC      RALPHS SAVED YOU 0.49                TABBSe10 \n",
      "18533      KRO PASTA           RC     1.25 F     38G \n",
      "   SC      RALPHS SAVED YOU 0.14 \n",
      "           NISSIN CUP NOODLESRC       0.79 F \n",
      "   SC      RALPHS SAVED YOU 0.20 \n",
      "           KRO SALTPPR SHAKR          2.49 F \n",
      "BUV        KRO TALL KTCHN 13G         7.49 T \n",
      "           NISS TOP RMN BOWL          1.79 F \n",
      "EBEE        GRANULATED SUGAR          3.49 F \n",
      "    3 @ 2/3.00 \n",
      "                                RC    2.97 F \n",
      "BUBEN      PPR BELL RED \n",
      "   SC      RALPHS SAVED YOU     1.53 \n",
      "   0.73 1b @ 3.49 /1b \n",
      "  WT        TOMATO ORGNC               2.55 F \n",
      "            STO RST ORG     ТЯАТ       3.99 FE \n",
      "    1.18 1b @ 0. 99 /1b \n",
      "  WT       ROMA TOMATO          RC     1.17 F \n",
      "  SC       RALPHS SAVED YOU     0.35 \n",
      "   1.27 1b @ 2.49 /1b \n",
      "  WT       ONIONS ORGNC                3.16 F \n",
      "   1.50 1b @ 0.69 /1b \n",
      "  WT       BANANAS                     1.04 F \n",
      "           SIMPLE TRUTH EGGS           5.99 F \n",
      "           SIMPLE TRUTH EGGS           5.99 F \n",
      "           DOVE CONDITIONER            5.49 T \n",
      "           FACIAL CLEANSER            10.99 T \n",
      "           KRO ORG CLEAR LQD            1.99 T \n",
      "   4 @ 0.10 \n",
      "  MR       CHECKOUT BAG TAX             0.40 \n",
      "   RALPHS rewards CUSTOMER        ******* 1000 \n",
      "           TAX                          2.01 \n",
      "     **** BALANCE                      66.54 \n",
      "<<<\f\n"
     ]
    }
   ],
   "source": [
    "output = whisper[\"extraction\"][\"result_text\"]\n",
    "print(output)"
   ]
  },
  {
   "cell_type": "markdown",
   "metadata": {},
   "source": [
    "## GEMINI"
   ]
  },
  {
   "cell_type": "code",
   "execution_count": 13,
   "metadata": {},
   "outputs": [],
   "source": [
    "from google import genai\n",
    "\n",
    "client = genai.Client(api_key=GEMINI_API_KEY)"
   ]
  },
  {
   "cell_type": "code",
   "execution_count": 14,
   "metadata": {},
   "outputs": [],
   "source": [
    "data = \"convert this to json.\" + output"
   ]
  },
  {
   "cell_type": "code",
   "execution_count": 15,
   "metadata": {},
   "outputs": [
    {
     "name": "stdout",
     "output_type": "stream",
     "text": [
      "[\n",
      "  {\n",
      "    \"name\": \"BARLLA SHELLS\",\n",
      "    \"cost\": [\"1.50\"]\n",
      "  },\n",
      "  {\n",
      "    \"name\": \"KRO PASTA\",\n",
      "    \"cost\": [\"1.25\"]\n",
      "  },\n",
      "  {\n",
      "    \"name\": \"NISSIN CUP NOODLE\",\n",
      "    \"cost\": [\"0.79\"]\n",
      "  },\n",
      "  {\n",
      "    \"name\": \"KRO SALTPPR SHAKR\",\n",
      "    \"cost\": [\"2.49\"]\n",
      "  },\n",
      "  {\n",
      "    \"name\": \"KRO TALL KTCHN\",\n",
      "    \"cost\": [\"7.49\"]\n",
      "  },\n",
      "  {\n",
      "    \"name\": \"NISS TOP RMN BOWL\",\n",
      "    \"cost\": [\"1.79\"]\n",
      "  },\n",
      "  {\n",
      "    \"name\": \"GRANULATED SUGAR\",\n",
      "    \"cost\": [\"3.49\"]\n",
      "  },\n",
      "  {\n",
      "    \"name\": \"PPR BELL RED\",\n",
      "    \"cost\": [\"2.97\"]\n",
      "  },\n",
      "  {\n",
      "    \"name\": \"TOMATO ORGNC\",\n",
      "    \"cost\": [\"2.55\"]\n",
      "  },\n",
      "  {\n",
      "    \"name\": \"STO RST ORG\",\n",
      "    \"cost\": [\"3.99\"]\n",
      "  },\n",
      "  {\n",
      "    \"name\": \"ROMA TOMATO\",\n",
      "    \"cost\": [\"1.17\"]\n",
      "  },\n",
      "  {\n",
      "    \"name\": \"ONIONS ORGNC\",\n",
      "    \"cost\": [\"3.16\"]\n",
      "  },\n",
      "  {\n",
      "    \"name\": \"BANANAS\",\n",
      "    \"cost\": [\"1.04\"]\n",
      "  },\n",
      "  {\n",
      "    \"name\": \"SIMPLE TRUTH EGGS\",\n",
      "    \"cost\": [\"5.99\", \"5.99\"]\n",
      "  },\n",
      "  {\n",
      "    \"name\": \"DOVE CONDITIONER\",\n",
      "    \"cost\": [\"5.49\"]\n",
      "  },\n",
      "  {\n",
      "    \"name\": \"FACIAL CLEANSER\",\n",
      "    \"cost\": [\"10.99\"]\n",
      "  },\n",
      "  {\n",
      "    \"name\": \"KRO ORG CLEAR LQD\",\n",
      "    \"cost\": [\"1.99\"]\n",
      "  },\n",
      "  {\n",
      "    \"name\": \"CHECKOUT BAG TAX\",\n",
      "    \"cost\": [\"0.40\"]\n",
      "  },\n",
      "  {\n",
      "    \"name\": \"TAX\",\n",
      "    \"cost\": [\"2.01\"]\n",
      "  }\n",
      "]\n"
     ]
    }
   ],
   "source": [
    "from pydantic import BaseModel\n",
    "\n",
    "\n",
    "class LineItems(BaseModel):\n",
    "    name: str\n",
    "    cost: list[str]\n",
    "    # cost: float\n",
    "\n",
    "\n",
    "response = client.models.generate_content(\n",
    "    model=\"gemini-2.0-flash\",\n",
    "    contents=data,\n",
    "    config={\n",
    "        \"response_mime_type\": \"application/json\",\n",
    "        \"response_schema\": list[LineItems],\n",
    "    },\n",
    ")\n",
    "# Use the response as a JSON string.\n",
    "print(response.text)\n",
    "\n",
    "# Use instantiated objects.\n",
    "my_recipes: list[LineItems] = response.parsed"
   ]
  }
 ],
 "metadata": {
  "kernelspec": {
   "display_name": "venv",
   "language": "python",
   "name": "python3"
  },
  "language_info": {
   "codemirror_mode": {
    "name": "ipython",
    "version": 3
   },
   "file_extension": ".py",
   "mimetype": "text/x-python",
   "name": "python",
   "nbconvert_exporter": "python",
   "pygments_lexer": "ipython3",
   "version": "3.13.2"
  }
 },
 "nbformat": 4,
 "nbformat_minor": 2
}
