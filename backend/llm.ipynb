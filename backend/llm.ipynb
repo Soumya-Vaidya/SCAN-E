{
 "cells": [
  {
   "cell_type": "code",
   "execution_count": 98,
   "metadata": {},
   "outputs": [],
   "source": [
    "import os\n",
    "import requests\n",
    "from dotenv import load_dotenv\n",
    "from unstract.llmwhisperer import LLMWhispererClientV2\n",
    "from google import genai\n",
    "from pydantic import BaseModel"
   ]
  },
  {
   "cell_type": "code",
   "execution_count": 99,
   "metadata": {},
   "outputs": [],
   "source": [
    "from typing import List, Optional"
   ]
  },
  {
   "cell_type": "code",
   "execution_count": 100,
   "metadata": {},
   "outputs": [],
   "source": [
    "class LineItems(BaseModel):\n",
    "    name: str\n",
    "    cost: List[str]\n",
    "\n",
    "\n",
    "class Reciepts(BaseModel):\n",
    "    image_url: Optional[str]\n",
    "    date: Optional[str]\n",
    "    shop_name: Optional[str]\n",
    "    total_amount: Optional[str]\n",
    "    line_items: List[LineItems]"
   ]
  },
  {
   "cell_type": "code",
   "execution_count": 101,
   "metadata": {},
   "outputs": [],
   "source": [
    "load_dotenv()\n",
    "\n",
    "LLMWHISPERER_API_KEY = os.getenv(\"LLMWHISPERER_API_KEY\")\n",
    "GEMINI_API_KEY = os.getenv(\"GEMINI_API_KEY\")\n",
    "MONGO_URL = os.getenv(\"MONGO_URL\")"
   ]
  },
  {
   "cell_type": "code",
   "execution_count": 102,
   "metadata": {},
   "outputs": [],
   "source": [
    "def download_image(url, folder=\"bills\", filename=\"downloaded_image.jpg\"):\n",
    "    # Create the folder if it doesn't exist\n",
    "    if not os.path.exists(folder):\n",
    "        os.makedirs(folder)\n",
    "\n",
    "    # Get the image data\n",
    "    response = requests.get(url, stream=True)\n",
    "    if response.status_code == 200:\n",
    "        image_path = os.path.join(folder, filename)\n",
    "        with open(image_path, \"wb\") as file:\n",
    "            for chunk in response.iter_content(1024):\n",
    "                file.write(chunk)\n",
    "        print(f\"Image downloaded successfully: {image_path}\")\n",
    "    else:\n",
    "        print(\"Failed to download image. Check the URL.\")"
   ]
  },
  {
   "cell_type": "code",
   "execution_count": 103,
   "metadata": {},
   "outputs": [],
   "source": [
    "def convert_receipt_to_text(image_path: str):\n",
    "    clientllm = LLMWhispererClientV2(\n",
    "        base_url=\"https://llmwhisperer-api.us-central.unstract.com/api/v2\",\n",
    "        api_key=LLMWHISPERER_API_KEY,\n",
    "        logging_level=\"INFO\",\n",
    "    )\n",
    "    whisper = clientllm.whisper(\n",
    "        file_path=image_path, wait_for_completion=True, wait_timeout=200\n",
    "    )\n",
    "    output = whisper[\"extraction\"][\"result_text\"]\n",
    "    return output"
   ]
  },
  {
   "cell_type": "code",
   "execution_count": 104,
   "metadata": {},
   "outputs": [],
   "source": [
    "def convert_text_to_json(output: str):\n",
    "    client = genai.Client(api_key=GEMINI_API_KEY)\n",
    "    data = \"convert this to json.\" + output\n",
    "    response = client.models.generate_content(\n",
    "        model=\"gemini-2.0-flash\",\n",
    "        contents=data,\n",
    "        config={\n",
    "            \"response_mime_type\": \"application/json\",\n",
    "            \"response_schema\": Reciepts,\n",
    "        },\n",
    "    )\n",
    "    final_lineitems = response.parsed\n",
    "    print(\"respone\", response.text)\n",
    "    print(final_lineitems)\n",
    "    return final_lineitems"
   ]
  },
  {
   "cell_type": "code",
   "execution_count": 105,
   "metadata": {},
   "outputs": [],
   "source": [
    "image_url = \"https://media.istockphoto.com/id/1420767944/vector/register-sale-receipt-isolated-on-white-background-cash-receipt-printed.jpg?s=612x612&w=0&k=20&c=eV7CDJK0DZgKo7KVlGTDJeVMN_2xybqIPvt1ATl_kkM=\""
   ]
  },
  {
   "cell_type": "code",
   "execution_count": 106,
   "metadata": {},
   "outputs": [
    {
     "name": "stdout",
     "output_type": "stream",
     "text": [
      "Image downloaded successfully: bills/downloaded_image.jpg\n",
      "respone {\n",
      "  \"image_url\": null,\n",
      "  \"date\": \"MM/DD/YYYY\",\n",
      "  \"shop_name\": \"COMPANY NAME\",\n",
      "  \"total_amount\": \"$29.69\",\n",
      "  \"line_items\": [\n",
      "    {\n",
      "      \"name\": \"Orange Juice\",\n",
      "      \"cost\": [\n",
      "        \"$2.15\"\n",
      "      ]\n",
      "    },\n",
      "    {\n",
      "      \"name\": \"Apples\",\n",
      "      \"cost\": [\n",
      "        \"$3.50\"\n",
      "      ]\n",
      "    },\n",
      "    {\n",
      "      \"name\": \"Tomato\",\n",
      "      \"cost\": [\n",
      "        \"$2.40\"\n",
      "      ]\n",
      "    },\n",
      "    {\n",
      "      \"name\": \"Fish\",\n",
      "      \"cost\": [\n",
      "        \"$6.99\"\n",
      "      ]\n",
      "    },\n",
      "    {\n",
      "      \"name\": \"Beef\",\n",
      "      \"cost\": [\n",
      "        \"$10.00\"\n",
      "      ]\n",
      "    },\n",
      "    {\n",
      "      \"name\": \"Onion\",\n",
      "      \"cost\": [\n",
      "        \"$1.25\"\n",
      "      ]\n",
      "    },\n",
      "    {\n",
      "      \"name\": \"Cheese\",\n",
      "      \"cost\": [\n",
      "        \"$3.40\"\n",
      "      ]\n",
      "    }\n",
      "  ]\n",
      "}\n",
      "image_url=None date='MM/DD/YYYY' shop_name='COMPANY NAME' total_amount='$29.69' line_items=[LineItems(name='Orange Juice', cost=['$2.15']), LineItems(name='Apples', cost=['$3.50']), LineItems(name='Tomato', cost=['$2.40']), LineItems(name='Fish', cost=['$6.99']), LineItems(name='Beef', cost=['$10.00']), LineItems(name='Onion', cost=['$1.25']), LineItems(name='Cheese', cost=['$3.40'])]\n"
     ]
    }
   ],
   "source": [
    "download_image(image_url)\n",
    "image_path = \"./bills/downloaded_image.jpg\"\n",
    "output = convert_receipt_to_text(image_path)\n",
    "final_lineitems = convert_text_to_json(output)"
   ]
  },
  {
   "cell_type": "code",
   "execution_count": 107,
   "metadata": {},
   "outputs": [],
   "source": [
    "# this is when final_lineitems =  response.text\n",
    "# with open(\"output.json\", \"w\") as file:\n",
    "#     file.write(final_lineitems)\n",
    "# final_lineitems"
   ]
  },
  {
   "cell_type": "code",
   "execution_count": 108,
   "metadata": {},
   "outputs": [],
   "source": [
    "# final = json.loads(final_lineitems)\n",
    "# print(final)\n",
    "# Reciepts(**final)"
   ]
  },
  {
   "cell_type": "code",
   "execution_count": 109,
   "metadata": {},
   "outputs": [
    {
     "data": {
      "text/plain": [
       "Reciepts(image_url=None, date='MM/DD/YYYY', shop_name='COMPANY NAME', total_amount='$29.69', line_items=[LineItems(name='Orange Juice', cost=['$2.15']), LineItems(name='Apples', cost=['$3.50']), LineItems(name='Tomato', cost=['$2.40']), LineItems(name='Fish', cost=['$6.99']), LineItems(name='Beef', cost=['$10.00']), LineItems(name='Onion', cost=['$1.25']), LineItems(name='Cheese', cost=['$3.40'])])"
      ]
     },
     "execution_count": 109,
     "metadata": {},
     "output_type": "execute_result"
    }
   ],
   "source": [
    "Reciepts.model_validate(final_lineitems)"
   ]
  }
 ],
 "metadata": {
  "kernelspec": {
   "display_name": "venv",
   "language": "python",
   "name": "python3"
  },
  "language_info": {
   "codemirror_mode": {
    "name": "ipython",
    "version": 3
   },
   "file_extension": ".py",
   "mimetype": "text/x-python",
   "name": "python",
   "nbconvert_exporter": "python",
   "pygments_lexer": "ipython3",
   "version": "3.13.2"
  }
 },
 "nbformat": 4,
 "nbformat_minor": 2
}
