{
 "cells": [
  {
   "cell_type": "code",
   "execution_count": 149,
   "metadata": {},
   "outputs": [],
   "source": [
    "import os\n",
    "import requests\n",
    "from dotenv import load_dotenv\n",
    "from unstract.llmwhisperer import LLMWhispererClientV2\n",
    "from google import genai\n",
    "from pydantic import BaseModel"
   ]
  },
  {
   "cell_type": "code",
   "execution_count": 150,
   "metadata": {},
   "outputs": [],
   "source": [
    "from typing import List, Optional"
   ]
  },
  {
   "cell_type": "code",
   "execution_count": 151,
   "metadata": {},
   "outputs": [],
   "source": [
    "class LineItems(BaseModel):\n",
    "    name: str\n",
    "    cost: float\n",
    "\n",
    "\n",
    "class Reciepts(BaseModel):\n",
    "    image_url: Optional[str]\n",
    "    date: Optional[str]\n",
    "    shop_name: Optional[str]\n",
    "    total_amount: Optional[str]\n",
    "    line_items: List[LineItems]"
   ]
  },
  {
   "cell_type": "code",
   "execution_count": 152,
   "metadata": {},
   "outputs": [],
   "source": [
    "load_dotenv()\n",
    "\n",
    "LLMWHISPERER_API_KEY = os.getenv(\"LLMWHISPERER_API_KEY\")\n",
    "GEMINI_API_KEY = os.getenv(\"GEMINI_API_KEY\")\n",
    "MONGO_URL = os.getenv(\"MONGO_URL\")"
   ]
  },
  {
   "cell_type": "code",
   "execution_count": 153,
   "metadata": {},
   "outputs": [],
   "source": [
    "def download_image(url, folder=\"bills\", filename=\"downloaded_image.jpg\"):\n",
    "    # Create the folder if it doesn't exist\n",
    "    if not os.path.exists(folder):\n",
    "        os.makedirs(folder)\n",
    "\n",
    "    # Get the image data\n",
    "    response = requests.get(url, stream=True)\n",
    "    if response.status_code == 200:\n",
    "        image_path = os.path.join(folder, filename)\n",
    "        with open(image_path, \"wb\") as file:\n",
    "            for chunk in response.iter_content(1024):\n",
    "                file.write(chunk)\n",
    "        print(f\"Image downloaded successfully: {image_path}\")\n",
    "    else:\n",
    "        print(\"Failed to download image. Check the URL.\")"
   ]
  },
  {
   "cell_type": "code",
   "execution_count": 154,
   "metadata": {},
   "outputs": [],
   "source": [
    "def convert_receipt_to_text(image_path: str):\n",
    "    clientllm = LLMWhispererClientV2(\n",
    "        base_url=\"https://llmwhisperer-api.us-central.unstract.com/api/v2\",\n",
    "        api_key=LLMWHISPERER_API_KEY,\n",
    "        logging_level=\"INFO\",\n",
    "    )\n",
    "    whisper = clientllm.whisper(\n",
    "        file_path=image_path, wait_for_completion=True, wait_timeout=200\n",
    "    )\n",
    "    output = whisper[\"extraction\"][\"result_text\"]\n",
    "    return output"
   ]
  },
  {
   "cell_type": "code",
   "execution_count": 155,
   "metadata": {},
   "outputs": [],
   "source": [
    "def convert_text_to_json(output: str):\n",
    "    client = genai.Client(api_key=GEMINI_API_KEY)\n",
    "    data = (\n",
    "        \"convert this to json. do not include tax or bag charges or any redeem vouchers cost such as CA REDEM VAL\"\n",
    "        + output\n",
    "    )\n",
    "    response = client.models.generate_content(\n",
    "        model=\"gemini-2.0-flash\",\n",
    "        contents=data,\n",
    "        config={\n",
    "            \"response_mime_type\": \"application/json\",\n",
    "            \"response_schema\": Reciepts,\n",
    "        },\n",
    "    )\n",
    "    final_lineitems = response.parsed\n",
    "    print(\"respone\", response.text)\n",
    "    print(final_lineitems)\n",
    "    return final_lineitems"
   ]
  },
  {
   "cell_type": "code",
   "execution_count": 156,
   "metadata": {},
   "outputs": [],
   "source": [
    "# image_url = \"https://media.istockphoto.com/id/1420767944/vector/register-sale-receipt-isolated-on-white-background-cash-receipt-printed.jpg?s=612x612&w=0&k=20&c=eV7CDJK0DZgKo7KVlGTDJeVMN_2xybqIPvt1ATl_kkM=\""
   ]
  },
  {
   "cell_type": "code",
   "execution_count": 157,
   "metadata": {},
   "outputs": [],
   "source": [
    "image_url = \"https://images.iwaspoisoned.com/148750/tn1200w_1543370032.jpg\""
   ]
  },
  {
   "cell_type": "code",
   "execution_count": 158,
   "metadata": {},
   "outputs": [
    {
     "name": "stdout",
     "output_type": "stream",
     "text": [
      "Image downloaded successfully: bills/downloaded_image.jpg\n",
      "respone {\n",
      "  \"image_url\": null,\n",
      "  \"date\": \"11/14/18 12:11pm\",\n",
      "  \"shop_name\": \"Ralphs\",\n",
      "  \"total_amount\": \"26.13\",\n",
      "  \"line_items\": [\n",
      "    {\n",
      "      \"name\": \"KRO AGED SWS SLC RC\",\n",
      "      \"cost\": 3.50\n",
      "    },\n",
      "    {\n",
      "      \"name\": \"KRO AGED SWS SLC RC\",\n",
      "      \"cost\": 3.50\n",
      "    },\n",
      "    {\n",
      "      \"name\": \"OCEAN SPRY JC DRNKRC\",\n",
      "      \"cost\": 2.50\n",
      "    },\n",
      "    {\n",
      "      \"name\": \"KRO WHT CRAN PEACH\",\n",
      "      \"cost\": 1.99\n",
      "    },\n",
      "    {\n",
      "      \"name\": \"OCEAN SPRY JC DRNKRC\",\n",
      "      \"cost\": 2.50\n",
      "    },\n",
      "    {\n",
      "      \"name\": \"COKE 6PK RC\",\n",
      "      \"cost\": 3.00\n",
      "    },\n",
      "    {\n",
      "      \"name\": \"KRO LEAFY ROMAINE RC\",\n",
      "      \"cost\": 2.29\n",
      "    },\n",
      "    {\n",
      "      \"name\": \"HASS AVOCADO RC\",\n",
      "      \"cost\": 3.96\n",
      "    },\n",
      "    {\n",
      "      \"name\": \"KRO LEAFY ROMAINE RC\",\n",
      "      \"cost\": 2.29\n",
      "    }\n",
      "  ]\n",
      "}\n",
      "image_url=None date='11/14/18 12:11pm' shop_name='Ralphs' total_amount='26.13' line_items=[LineItems(name='KRO AGED SWS SLC RC', cost=3.5), LineItems(name='KRO AGED SWS SLC RC', cost=3.5), LineItems(name='OCEAN SPRY JC DRNKRC', cost=2.5), LineItems(name='KRO WHT CRAN PEACH', cost=1.99), LineItems(name='OCEAN SPRY JC DRNKRC', cost=2.5), LineItems(name='COKE 6PK RC', cost=3.0), LineItems(name='KRO LEAFY ROMAINE RC', cost=2.29), LineItems(name='HASS AVOCADO RC', cost=3.96), LineItems(name='KRO LEAFY ROMAINE RC', cost=2.29)]\n"
     ]
    }
   ],
   "source": [
    "download_image(image_url)\n",
    "image_path = \"./bills/downloaded_image.jpg\"\n",
    "output = convert_receipt_to_text(image_path)\n",
    "final_lineitems = convert_text_to_json(output)"
   ]
  },
  {
   "cell_type": "code",
   "execution_count": 159,
   "metadata": {},
   "outputs": [],
   "source": [
    "# this is when final_lineitems =  response.text\n",
    "# with open(\"output.json\", \"w\") as file:\n",
    "#     file.write(final_lineitems)\n",
    "# final_lineitems"
   ]
  },
  {
   "cell_type": "code",
   "execution_count": 160,
   "metadata": {},
   "outputs": [],
   "source": [
    "# final = json.loads(final_lineitems)\n",
    "# print(final)\n",
    "# Reciepts(**final)"
   ]
  },
  {
   "cell_type": "code",
   "execution_count": 161,
   "metadata": {},
   "outputs": [
    {
     "data": {
      "text/plain": [
       "Reciepts(image_url=None, date='11/14/18 12:11pm', shop_name='Ralphs', total_amount='26.13', line_items=[LineItems(name='KRO AGED SWS SLC RC', cost=3.5), LineItems(name='KRO AGED SWS SLC RC', cost=3.5), LineItems(name='OCEAN SPRY JC DRNKRC', cost=2.5), LineItems(name='KRO WHT CRAN PEACH', cost=1.99), LineItems(name='OCEAN SPRY JC DRNKRC', cost=2.5), LineItems(name='COKE 6PK RC', cost=3.0), LineItems(name='KRO LEAFY ROMAINE RC', cost=2.29), LineItems(name='HASS AVOCADO RC', cost=3.96), LineItems(name='KRO LEAFY ROMAINE RC', cost=2.29)])"
      ]
     },
     "execution_count": 161,
     "metadata": {},
     "output_type": "execute_result"
    }
   ],
   "source": [
    "Reciepts.model_validate(final_lineitems)"
   ]
  }
 ],
 "metadata": {
  "kernelspec": {
   "display_name": "venv",
   "language": "python",
   "name": "python3"
  },
  "language_info": {
   "codemirror_mode": {
    "name": "ipython",
    "version": 3
   },
   "file_extension": ".py",
   "mimetype": "text/x-python",
   "name": "python",
   "nbconvert_exporter": "python",
   "pygments_lexer": "ipython3",
   "version": "3.13.2"
  }
 },
 "nbformat": 4,
 "nbformat_minor": 2
}
